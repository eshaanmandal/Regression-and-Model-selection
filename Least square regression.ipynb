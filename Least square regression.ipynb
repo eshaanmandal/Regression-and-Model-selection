{
 "cells": [
  {
   "cell_type": "code",
   "execution_count": 77,
   "id": "7bfa4fd2",
   "metadata": {},
   "outputs": [],
   "source": [
    "import numpy as np\n",
    "import matplotlib.pyplot as plt\n",
    "plt.rcParams['figure.figsize'] = [8,8]"
   ]
  },
  {
   "cell_type": "code",
   "execution_count": 106,
   "id": "5eadaa9b",
   "metadata": {},
   "outputs": [],
   "source": [
    "# generating the data\n",
    "x = np.arange(0,21)\n",
    "y = 10*np.random.rand(1)*np.random.randn(21) + x"
   ]
  },
  {
   "cell_type": "markdown",
   "id": "1281e4b8",
   "metadata": {},
   "source": [
    "# The approach\n",
    "\n",
    "The linear fit of the data would be given by\n",
    "$$f (x) = β_1x + β_2$$ \n",
    "\n",
    "The error (using the two norm) is given as\n",
    "$$ \\sum_{n=1}^{n=k} abs(f(x_k) − y_k)^2 = 1 $$\n",
    "\n",
    "Substituting the value of f(x) into the equation below we get\n",
    "$$ \\sum_{n=1}^{n=k} (β_1x_k + β_2 − y_k)^2$$\n",
    "\n",
    "Taking partial deriviatives with respect to β1 and β2 we obtain:\n",
    "$$\\sum_{n=1}^{n=k} 2(β_1x_k + β_2 − y_k)x_k = 0$$\n",
    "\n",
    "and\n",
    "$$\\sum_{n=1}^{n=k} 2(β_1x_k + β_2 − y_k) = 0$$\n",
    "\n",
    "We have to minimise the errors with respect to β1 and β2. On rearranging the equations we get\n",
    "$$\n",
    "\\begin{pmatrix}\n",
    "\\sum_{n=1}^{n=k}x_k^2 & \\sum_{n=1}^{n=k}x_k\\\\\n",
    "\\sum_{n=1}^{n=k}x_k & n\n",
    "\\end{pmatrix}\n",
    "\\begin{pmatrix}\n",
    "β_1\\\\\n",
    "β_2\n",
    "\\end{pmatrix}\n",
    "=\n",
    "\\begin{pmatrix}\n",
    "\\sum_{n=1}^{n=k}x_k y_k \\\\\n",
    "\\sum_{n=1}^{n=k}y_k\n",
    "\\end{pmatrix}\n",
    "$$\n",
    "\n",
    "As we can see it has become a simple matrix problem which can be easily solved using the in-built functions in most of the programming languages\n",
    "$$ Ay = b $$\n",
    "\n",
    "Here we would use <b><i>np.linalg.solve</i></b> provided in the numpy package"
   ]
  },
  {
   "cell_type": "code",
   "execution_count": 107,
   "id": "c1acefff",
   "metadata": {},
   "outputs": [
    {
     "data": {
      "image/png": "[encoded data removed]",
      "text/plain": [
       "<Figure size 576x576 with 1 Axes>"
      ]
     },
     "metadata": {
      "needs_background": "light"
     },
     "output_type": "display_data"
    }
   ],
   "source": [
    "# Solving the linear eqaution\n",
    "A = np.array([[np.sum(np.power(x,2)), np.sum(x)],[np.sum(x), len(x)]])\n",
    "b = np.array([[np.sum(x*y)],[np.sum(y)]])\n",
    "z = np.linalg.solve(A,b)\n",
    "\n",
    "plt.scatter(x,y)\n",
    "plt.plot(x,z[0]*x + z[1],'r',label=\"Best fit line by minimizing 2 norm\")\n",
    "plt.xlabel('x')\n",
    "plt.ylabel('y')\n",
    "plt.legend()\n",
    "plt.title('2- norm line fitting')\n",
    "plt.grid()\n",
    "plt.show()\n"
   ]
  },
  {
   "cell_type": "code",
   "execution_count": 103,
   "id": "0c23517b",
   "metadata": {},
   "outputs": [
    {
     "data": {
      "text/plain": [
       "array([5.4080618])"
      ]
     },
     "execution_count": 103,
     "metadata": {},
     "output_type": "execute_result"
    }
   ],
   "source": []
  },
  {
   "cell_type": "code",
   "execution_count": null,
   "id": "52ee2e1b",
   "metadata": {},
   "outputs": [],
   "source": []
  },
  {
   "cell_type": "code",
   "execution_count": null,
   "id": "71caa0fa",
   "metadata": {},
   "outputs": [],
   "source": []
  }
 ],
 "metadata": {
  "kernelspec": {
   "display_name": "Python 3 (ipykernel)",
   "language": "python",
   "name": "python3"
  },
  "language_info": {
   "codemirror_mode": {
    "name": "ipython",
    "version": 3
   },
   "file_extension": ".py",
   "mimetype": "text/x-python",
   "name": "python",
   "nbconvert_exporter": "python",
   "pygments_lexer": "ipython3",
   "version": "3.9.7"
  }
 },
 "nbformat": 4,
 "nbformat_minor": 5
}
